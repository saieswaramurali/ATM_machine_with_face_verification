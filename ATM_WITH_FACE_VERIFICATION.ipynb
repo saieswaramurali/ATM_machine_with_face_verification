{
  "nbformat": 4,
  "nbformat_minor": 0,
  "metadata": {
    "colab": {
      "provenance": [],
      "gpuType": "T4",
      "authorship_tag": "ABX9TyOpBBCF5oBrVmgT1nOBE3oU",
      "include_colab_link": true
    },
    "kernelspec": {
      "name": "python3",
      "display_name": "Python 3"
    },
    "language_info": {
      "name": "python"
    },
    "accelerator": "GPU"
  },
  "cells": [
    {
      "cell_type": "markdown",
      "metadata": {
        "id": "view-in-github",
        "colab_type": "text"
      },
      "source": [
        "<a href=\"https://colab.research.google.com/github/saieswaramurali/ATM_machine_with_face_verification/blob/main/ATM_WITH_FACE_VERIFICATION.ipynb\" target=\"_parent\"><img src=\"https://colab.research.google.com/assets/colab-badge.svg\" alt=\"Open In Colab\"/></a>"
      ]
    },
    {
      "cell_type": "code",
      "source": [
        "customer_database = []\n",
        "customer_known_img = []\n",
        "customer_Unknown_img = [] # assuming this is the img calculated from the user while withdrawing.\n",
        "\n",
        "# think a way to avoid users with same name ; ------ DONE\n",
        "# should implement OTP for verification ------ DONE\n",
        "# and add face recognition for two step verification ----- DONE\n"
      ],
      "metadata": {
        "id": "kZLEKmEwkota"
      },
      "execution_count": null,
      "outputs": []
    },
    {
      "cell_type": "code",
      "source": [
        "!pip install twilio"
      ],
      "metadata": {
        "colab": {
          "base_uri": "https://localhost:8080/"
        },
        "id": "kinWbLyAL1MW",
        "outputId": "a700d9e0-718b-487f-fb50-d6d5369a6097"
      },
      "execution_count": null,
      "outputs": [
        {
          "output_type": "stream",
          "name": "stdout",
          "text": [
            "Collecting twilio\n",
            "  Downloading twilio-8.10.1-py2.py3-none-any.whl (1.8 MB)\n",
            "\u001b[?25l     \u001b[90m━━━━━━━━━━━━━━━━━━━━━━━━━━━━━━━━━━━━━━━━\u001b[0m \u001b[32m0.0/1.8 MB\u001b[0m \u001b[31m?\u001b[0m eta \u001b[36m-:--:--\u001b[0m\r\u001b[2K     \u001b[91m━━━\u001b[0m\u001b[91m╸\u001b[0m\u001b[90m━━━━━━━━━━━━━━━━━━━━━━━━━━━━━━━━━━━━\u001b[0m \u001b[32m0.2/1.8 MB\u001b[0m \u001b[31m5.2 MB/s\u001b[0m eta \u001b[36m0:00:01\u001b[0m\r\u001b[2K     \u001b[91m━━━━━━━━━━━━━━━━━━━━━━━━━━━━━━━━━━━━━━━\u001b[0m\u001b[91m╸\u001b[0m \u001b[32m1.8/1.8 MB\u001b[0m \u001b[31m26.4 MB/s\u001b[0m eta \u001b[36m0:00:01\u001b[0m\r\u001b[2K     \u001b[90m━━━━━━━━━━━━━━━━━━━━━━━━━━━━━━━━━━━━━━━━\u001b[0m \u001b[32m1.8/1.8 MB\u001b[0m \u001b[31m21.9 MB/s\u001b[0m eta \u001b[36m0:00:00\u001b[0m\n",
            "\u001b[?25hRequirement already satisfied: requests>=2.0.0 in /usr/local/lib/python3.10/dist-packages (from twilio) (2.31.0)\n",
            "Requirement already satisfied: PyJWT<3.0.0,>=2.0.0 in /usr/lib/python3/dist-packages (from twilio) (2.3.0)\n",
            "Requirement already satisfied: aiohttp>=3.8.4 in /usr/local/lib/python3.10/dist-packages (from twilio) (3.8.6)\n",
            "Collecting aiohttp-retry>=2.8.3 (from twilio)\n",
            "  Downloading aiohttp_retry-2.8.3-py3-none-any.whl (9.8 kB)\n",
            "Requirement already satisfied: attrs>=17.3.0 in /usr/local/lib/python3.10/dist-packages (from aiohttp>=3.8.4->twilio) (23.1.0)\n",
            "Requirement already satisfied: charset-normalizer<4.0,>=2.0 in /usr/local/lib/python3.10/dist-packages (from aiohttp>=3.8.4->twilio) (3.3.2)\n",
            "Requirement already satisfied: multidict<7.0,>=4.5 in /usr/local/lib/python3.10/dist-packages (from aiohttp>=3.8.4->twilio) (6.0.4)\n",
            "Requirement already satisfied: async-timeout<5.0,>=4.0.0a3 in /usr/local/lib/python3.10/dist-packages (from aiohttp>=3.8.4->twilio) (4.0.3)\n",
            "Requirement already satisfied: yarl<2.0,>=1.0 in /usr/local/lib/python3.10/dist-packages (from aiohttp>=3.8.4->twilio) (1.9.2)\n",
            "Requirement already satisfied: frozenlist>=1.1.1 in /usr/local/lib/python3.10/dist-packages (from aiohttp>=3.8.4->twilio) (1.4.0)\n",
            "Requirement already satisfied: aiosignal>=1.1.2 in /usr/local/lib/python3.10/dist-packages (from aiohttp>=3.8.4->twilio) (1.3.1)\n",
            "Requirement already satisfied: idna<4,>=2.5 in /usr/local/lib/python3.10/dist-packages (from requests>=2.0.0->twilio) (3.4)\n",
            "Requirement already satisfied: urllib3<3,>=1.21.1 in /usr/local/lib/python3.10/dist-packages (from requests>=2.0.0->twilio) (2.0.7)\n",
            "Requirement already satisfied: certifi>=2017.4.17 in /usr/local/lib/python3.10/dist-packages (from requests>=2.0.0->twilio) (2023.7.22)\n",
            "Installing collected packages: aiohttp-retry, twilio\n",
            "Successfully installed aiohttp-retry-2.8.3 twilio-8.10.1\n"
          ]
        }
      ]
    },
    {
      "cell_type": "code",
      "source": [
        "!pip install face_recognition\n"
      ],
      "metadata": {
        "colab": {
          "base_uri": "https://localhost:8080/"
        },
        "id": "bemi6ldBMJ3F",
        "outputId": "27d93219-05b8-431b-92b2-7074aece051e"
      },
      "execution_count": null,
      "outputs": [
        {
          "output_type": "stream",
          "name": "stdout",
          "text": [
            "Collecting face_recognition\n",
            "  Downloading face_recognition-1.3.0-py2.py3-none-any.whl (15 kB)\n",
            "Collecting face-recognition-models>=0.3.0 (from face_recognition)\n",
            "  Downloading face_recognition_models-0.3.0.tar.gz (100.1 MB)\n",
            "\u001b[2K     \u001b[90m━━━━━━━━━━━━━━━━━━━━━━━━━━━━━━━━━━━━━━━━\u001b[0m \u001b[32m100.1/100.1 MB\u001b[0m \u001b[31m8.6 MB/s\u001b[0m eta \u001b[36m0:00:00\u001b[0m\n",
            "\u001b[?25h  Preparing metadata (setup.py) ... \u001b[?25l\u001b[?25hdone\n",
            "Requirement already satisfied: Click>=6.0 in /usr/local/lib/python3.10/dist-packages (from face_recognition) (8.1.7)\n",
            "Requirement already satisfied: dlib>=19.7 in /usr/local/lib/python3.10/dist-packages (from face_recognition) (19.24.2)\n",
            "Requirement already satisfied: numpy in /usr/local/lib/python3.10/dist-packages (from face_recognition) (1.23.5)\n",
            "Requirement already satisfied: Pillow in /usr/local/lib/python3.10/dist-packages (from face_recognition) (9.4.0)\n",
            "Building wheels for collected packages: face-recognition-models\n",
            "  Building wheel for face-recognition-models (setup.py) ... \u001b[?25l\u001b[?25hdone\n",
            "  Created wheel for face-recognition-models: filename=face_recognition_models-0.3.0-py2.py3-none-any.whl size=100566170 sha256=0f473df02119a11a452cd0df2ee72ef17ace40638a35be4fa2b346b364932466\n",
            "  Stored in directory: /root/.cache/pip/wheels/7a/eb/cf/e9eced74122b679557f597bb7c8e4c739cfcac526db1fd523d\n",
            "Successfully built face-recognition-models\n",
            "Installing collected packages: face-recognition-models, face_recognition\n",
            "Successfully installed face-recognition-models-0.3.0 face_recognition-1.3.0\n"
          ]
        }
      ]
    },
    {
      "cell_type": "code",
      "source": [
        "!mkdir known\n",
        "!mkdir Unknown"
      ],
      "metadata": {
        "id": "UAmPAZeMMq9c"
      },
      "execution_count": null,
      "outputs": []
    },
    {
      "cell_type": "code",
      "source": [
        "import face_recognition\n",
        "import cv2\n",
        "import os\n",
        "from google.colab.patches import cv2_imshow\n",
        "\n",
        "def read_img(path) :\n",
        "  img = cv2.imread(path)\n",
        "  (h, v) = img.shape[:2] # getting height and width\n",
        "  width = 500\n",
        "  ratio =  width / float(v)\n",
        "  height = int(h * ratio)\n",
        "  return cv2.resize(img, [width, height])\n",
        "\n",
        "known_encodings = []\n",
        "known_names = []\n",
        "known_dir = \"known\"\n",
        "\n",
        "for file in os.listdir(known_dir) :\n",
        "  img = read_img(known_dir + '/' + file)\n",
        "  img_enc = face_recognition.face_encodings(img)[0]\n",
        "  known_encodings.append(img_enc)\n",
        "  known_names.append(file.split('.')[0])\n",
        "\n",
        "unknown_dir = 'Unknown'\n",
        "\n",
        "for file in os.listdir(unknown_dir) :\n",
        "  print('Processing', file)\n",
        "  img = read_img(unknown_dir + '/' + file)\n",
        "  img_enc = face_recognition.face_encodings(img)[0]\n",
        "\n",
        "  results = face_recognition.compare_faces(known_encodings, img_enc)\n",
        "\n",
        "  for i in range(len(results)) :\n",
        "    if results[i] :\n",
        "      print(known_names[i])\n",
        "\n",
        "  print(results)\n",
        "\n",
        "\n"
      ],
      "metadata": {
        "colab": {
          "base_uri": "https://localhost:8080/"
        },
        "id": "teExDs1FNfku",
        "outputId": "a2d84fa8-b043-46e7-8623-2b45a5e39bf0"
      },
      "execution_count": null,
      "outputs": [
        {
          "output_type": "stream",
          "name": "stdout",
          "text": [
            "Processing jeff_bezoz.jpg\n",
            "JEFF\n",
            "[False, True]\n",
            "Processing elon_musk.jpg\n",
            "ELON\n",
            "[True, False]\n"
          ]
        }
      ]
    },
    {
      "cell_type": "code",
      "source": [
        "import random\n",
        "from twilio.rest import Client\n",
        "\n",
        "#for sending opt\n",
        "\n",
        "def send_otp(contact) :\n",
        "    otp = random.randint(1000,9999)\n",
        "\n",
        "    account_sid = \"AC70f4dc175df497d414dd6f32_____\" # enter your account sid from twilio account here to send otp\n",
        "\n",
        "    auth_token = \"2e0e5e164d5b500bc5eb2c4889____\"    # enter your account's authentication token from twilio account here to send otp\n",
        "\n",
        "    client = Client(account_sid, auth_token)\n",
        "\n",
        "    msg = client.messages.create(\n",
        "        body = f\"Welcome to our bank, Your OTP is {otp}\" ,\n",
        "        from_ = \"+15733672585\",\n",
        "        to = f\"+{contact}\"\n",
        "    )\n",
        "    return otp\n",
        "\n"
      ],
      "metadata": {
        "id": "7uyw9DfBDq9t"
      },
      "execution_count": null,
      "outputs": []
    },
    {
      "cell_type": "code",
      "source": [
        "#think of a way to avoid users with same username ;\n",
        "for i in customer_database :\n",
        "  print(i.username)"
      ],
      "metadata": {
        "id": "ENLYC5yVcXaB",
        "colab": {
          "base_uri": "https://localhost:8080/"
        },
        "outputId": "66bd1a5f-7927-4065-b2af-19b00a2f1756"
      },
      "execution_count": null,
      "outputs": [
        {
          "output_type": "stream",
          "name": "stdout",
          "text": [
            "saie\n",
            "vimal\n",
            "sai\n",
            "elon\n",
            "jeff\n",
            "elon\n",
            "jeff\n"
          ]
        }
      ]
    },
    {
      "cell_type": "code",
      "source": [
        "from prompt_toolkit.application.application import E\n",
        "\n",
        "import math\n",
        "\n",
        "\n",
        "#class for customers\n",
        "class customer :\n",
        "\n",
        "  def __init__(self, username, pin, contact, balance = 0) :\n",
        "    assert int(math.log10(pin) + 1) == 4 , \"pin number is not valid\"\n",
        "    #assert len(username) <= 3, \"username cannot be empty\"\n",
        "    assert balance >= 0 , \"balance cannot be negative\"\n",
        "    assert int(math.log10(contact)) + 1 == 12 , \"Enter contact number with the country code ex: +91______1234\"\n",
        "    self.username = username\n",
        "    self.pin = pin\n",
        "    self.balance = balance\n",
        "    self.contact = contact\n",
        "\n",
        "#function to display menu\n",
        "\n",
        "def start_page() :\n",
        "  print(\"\"\"\n",
        "    WELCOME TO OUR BANK\n",
        "    ENTER 1 TO LOGIN TO AN EXISTING ACCOUNT\n",
        "    ENTER 2 TO CREATE AN ACCOUNT\n",
        "  \"\"\")\n",
        "\n",
        "def Menu() :\n",
        "\n",
        "  # print(\"Welcome to our bank\")\n",
        "    print(\"\"\"\n",
        "        WELCOME TO OUR BANK\n",
        "        ****MENU****\n",
        "        Enter 1 to check balance\n",
        "        Enter 2 to withdraw the cash\n",
        "        Enter 3 to deposit the cash\n",
        "        Enter 4 to cancel\n",
        "    \"\"\")\n",
        "    choice = int(input())\n",
        "    while(type(choice) != type(0)) :\n",
        "      choice = int(input())\n",
        "    name = str(input(\"Enter the username : \"))\n",
        "    pin = int(input(\"Enter the pin : \"))\n",
        "\n",
        "\n",
        "    database_index = None\n",
        "    # to check whether the user is already exist in the database ;\n",
        "    flag = 0\n",
        "    for i in range(len(customer_database)) :\n",
        "      if customer_database[i].username == name :\n",
        "        flag = 1\n",
        "        database_index = i\n",
        "        break\n",
        "    if flag == 0 :\n",
        "      print(\"!!! KINDLY CHECK THE USERNAME ONCE AGAIN!!!\")\n",
        "\n",
        "    if flag == 1 : #user exists  ;\n",
        "\n",
        "\n",
        "\n",
        "          if customer_database[database_index].pin == pin :\n",
        "          # implement multiple verifications like OTP and face verification by adding if statements here ;\n",
        "\n",
        "          #for OTP verification ;\n",
        "                otp_sent = send_otp(customer_database[database_index].contact)\n",
        "                otp_entered = int(input(\"Enter the otp recieved in your contact number. \"))\n",
        "\n",
        "                if otp_entered == otp_sent :\n",
        "\n",
        "                    if choice == 4 : # to cancel\n",
        "                      pass\n",
        "                    elif choice == 3 : # to deposit the cash\n",
        "                      deposit = int(input(\"Enter the amount to deposit : \"))\n",
        "                      while deposit <= 0 :\n",
        "                        print(\"Enter appropriate amount to deposit\")\n",
        "                        deposit = int(input(\"Enter the amount to deposit : \"))\n",
        "\n",
        "                      customer_database[database_index].balance += deposit\n",
        "                      print(f\"HENCE the updated balance of account is : {customer_database[database_index].balance}\")\n",
        "\n",
        "                    elif choice == 2 : # to withdraw the cash\n",
        "                      withdraw = int(input(\"Enter the amount to withdraw : \"))\n",
        "\n",
        "                      while withdraw <= 0 or customer_database[database_index].balance < withdraw : #invalid amount to withdraw\n",
        "                        print(\"invalid balance or invalid amount entered\")\n",
        "                        withdraw = int(input(\"Enter the amount to withdraw : \"))\n",
        "\n",
        "                      if (withdraw >= 15000) :\n",
        "                        img = read_img(unknown_dir + '/' + 'elon_musk.jpg' )\n",
        "                        img_enc = face_recognition.face_encodings(img)\n",
        "\n",
        "                        result = face_recognition.compare_faces(known_encodings[1], img_enc)\n",
        "\n",
        "                        if results :\n",
        "                          print(\"Client face is recognised\")\n",
        "                          customer_database[database_index].balance -= withdraw\n",
        "                          print(f\"HENCE the updated balance of account is {customer_database[database_index].balance}\")\n",
        "                        else :\n",
        "                          print(\"!!!The Client face is not recognisied!!!\")\n",
        "\n",
        "\n",
        "                      else :\n",
        "                        customer_database[database_index].balance -= withdraw\n",
        "                        print(f\"HENCE the updated balance of account is {customer_database[database_index].balance}\")\n",
        "\n",
        "                    elif choice == 1 : # to check the balance\n",
        "                      print(f\"Your account balance is {customer_database[database_index].balance}\")\n",
        "\n",
        "                else :\n",
        "                    print(\"!!! Entered OTP is wrong !!!\")\n",
        "\n",
        "\n",
        "\n",
        "          else :\n",
        "            print(\"!!! kindly check your pin number !!!\")\n",
        "\n",
        "\n",
        "\n",
        "\n",
        "\n",
        "\n",
        "#function to initiate an account for new users\n",
        "def create_account(username, pin, contact, balance) :\n",
        "    assert int(math.log10(pin) + 1) == 4 , \"pin number is not valid\"\n",
        "    #assert len(username) == 0, \"username cannot be empty\"\n",
        "    assert balance >= 0 , \"balance cannot be negative\"\n",
        "    #assert username in customer_database.username() , \"username is taken already\"\n",
        "\n",
        "    customer_database.append(customer(username, pin, contact, balance))\n",
        "\n",
        "\n",
        "def Main() :\n",
        "  start_page()\n",
        "  choice = int(input())\n",
        "\n",
        "  if choice == 1 :\n",
        "    #display the information of the existing user :\n",
        "    Menu()\n",
        "  elif choice == 2:\n",
        "    #want to create a new account for user\n",
        "    name = str(input(\"Enter the username : \"))\n",
        "    pin = int(input(\"Enter the pin : \"))\n",
        "    balance = int(input(\"Enter the balance : \"))\n",
        "    contact = int(input(\"Enter your contact number : \"))\n",
        "    create_account(name, pin, contact,  balance)\n",
        "\n",
        "\n",
        "\n",
        "#sai = customer(\"sai\", 1222, 9000)\n",
        "#should try to implement a off button :\n",
        "#while True :\n",
        "\n",
        "Main()\n",
        "\n",
        "# to clear the database if we need to ;\n",
        "def clear_userDatabase() :\n",
        "  customer_database.clear()"
      ],
      "metadata": {
        "colab": {
          "base_uri": "https://localhost:8080/"
        },
        "id": "VdmNWxE5Ex-e",
        "outputId": "59cc5a5e-c9b6-4e5e-b1c2-6362c9d937b1"
      },
      "execution_count": null,
      "outputs": [
        {
          "output_type": "stream",
          "name": "stdout",
          "text": [
            "\n",
            "    WELCOME TO OUR BANK\n",
            "    ENTER 1 TO LOGIN TO AN EXISTING ACCOUNT\n",
            "    ENTER 2 TO CREATE AN ACCOUNT\n",
            "  \n",
            "1\n",
            "\n",
            "        WELCOME TO OUR BANK\n",
            "        ****MENU****\n",
            "        Enter 1 to check balance\n",
            "        Enter 2 to withdraw the cash\n",
            "        Enter 3 to deposit the cash\n",
            "        Enter 4 to cancel\n",
            "    \n",
            "2\n",
            "Enter the username : saie\n",
            "Enter the pin : 1234\n",
            "Enter the otp recieved in your contact number. 9275\n",
            "Enter the amount to withdraw : 25000\n",
            "Client face is recognised\n",
            "HENCE the updated balance of account is 87000\n"
          ]
        }
      ]
    },
    {
      "cell_type": "code",
      "source": [
        "# inititate the customer_database with some client objects after running the main method once\n",
        "print(len(customer_database))\n",
        "print(customer_database[0].contact)\n",
        "#customer_database.clear()\n",
        "\n",
        "create_account(\"elon\", 1234, 919444488518, 0)\n",
        "create_account(\"jeff\", 1234, 918778016026, 0)\n",
        "\n"
      ],
      "metadata": {
        "id": "wcfs5SE4TIpp",
        "colab": {
          "base_uri": "https://localhost:8080/"
        },
        "outputId": "7512fdd8-6e4d-4dd9-9d44-19c584b9eb9b"
      },
      "execution_count": null,
      "outputs": [
        {
          "output_type": "stream",
          "name": "stdout",
          "text": [
            "5\n",
            "919444488518\n"
          ]
        }
      ]
    },
    {
      "cell_type": "code",
      "source": [
        "print(len(customer_database))\n",
        "\n",
        "print(customer_database[0].contact)\n"
      ],
      "metadata": {
        "colab": {
          "base_uri": "https://localhost:8080/"
        },
        "id": "Flkw52zDFzeP",
        "outputId": "4e2dcf4a-fde5-4bfa-c9ff-58a622c635a4"
      },
      "execution_count": null,
      "outputs": [
        {
          "output_type": "stream",
          "name": "stdout",
          "text": [
            "2\n",
            "919444488518\n"
          ]
        }
      ]
    }
  ]
}