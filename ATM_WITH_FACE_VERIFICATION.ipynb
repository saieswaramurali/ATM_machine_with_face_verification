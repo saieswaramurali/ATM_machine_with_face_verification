{
  "nbformat": 4,
  "nbformat_minor": 0,
  "metadata": {
    "colab": {
      "provenance": [],
      "authorship_tag": "ABX9TyP0CfzxovAgqp+WWntpSm1l",
      "include_colab_link": true
    },
    "kernelspec": {
      "name": "python3",
      "display_name": "Python 3"
    },
    "language_info": {
      "name": "python"
    }
  },
  "cells": [
    {
      "cell_type": "markdown",
      "metadata": {
        "id": "view-in-github",
        "colab_type": "text"
      },
      "source": [
        "<a href=\"https://colab.research.google.com/github/saieswaramurali/ATM_machine_with_face_verification/blob/main/ATM_WITH_FACE_VERIFICATION.ipynb\" target=\"_parent\"><img src=\"https://colab.research.google.com/assets/colab-badge.svg\" alt=\"Open In Colab\"/></a>"
      ]
    },
    {
      "cell_type": "code",
      "source": [
        "customer_database = []\n",
        "# think a way to avoid users with same name ;\n",
        "# try to come up with an idea to use multithreading here since CAO ;\n",
        "# should implement OTP for verification\n",
        "# and add face recognition for two step verification"
      ],
      "metadata": {
        "id": "kZLEKmEwkota"
      },
      "execution_count": null,
      "outputs": []
    },
    {
      "cell_type": "code",
      "execution_count": null,
      "metadata": {
        "colab": {
          "base_uri": "https://localhost:8080/"
        },
        "id": "iFysKCADZcZJ",
        "outputId": "c079daec-49e3-4f77-804f-6c3bc2600ce7"
      },
      "outputs": [
        {
          "output_type": "stream",
          "name": "stdout",
          "text": [
            "\n",
            "    WELCOME TO OUR BANK \n",
            "    ENTER 1 TO LOGIN TO AN EXISTING ACCOUNT\n",
            "    ENTER 2 TO CREATE AN ACCOUNT \n",
            "  \n",
            "1\n",
            " \n",
            "        WELCOME TO OUR BANK\n",
            "        ****MENU**** \n",
            "        Enter 1 to check balance \n",
            "        Enter 2 to withdraw the cash \n",
            "        Enter 3 to deposit the cash \n",
            "        Enter 4 to cancel \n",
            "    \n",
            "1\n",
            "Enter the username : saieswara\n",
            "Enter the pin : 1233\n",
            "!!! kindly check your pin number !!!\n"
          ]
        }
      ],
      "source": [
        "from prompt_toolkit.application.application import E\n",
        "'''\n",
        "username = 'sai'\n",
        "pin = 1234\n",
        "balance = 0\n",
        "user_image = 0\n",
        "choice = 0\n",
        "'''\n",
        "\n",
        "import math\n",
        "\n",
        "\n",
        "#class for customers\n",
        "class customer :\n",
        "\n",
        "  def __init__(self, username, pin, balance = 0) :\n",
        "    assert int(math.log10(pin) + 1) == 4 , \"pin number is not valid\"\n",
        "    #assert len(username) <= 3, \"username cannot be empty\"\n",
        "    assert balance >= 0 , \"balance cannot be negative\"\n",
        "    self.username = username\n",
        "    self.pin = pin\n",
        "    self.balance = balance\n",
        "\n",
        "#function to display menu\n",
        "\n",
        "def start_page() :\n",
        "  print(\"\"\"\n",
        "    WELCOME TO OUR BANK\n",
        "    ENTER 1 TO LOGIN TO AN EXISTING ACCOUNT\n",
        "    ENTER 2 TO CREATE AN ACCOUNT\n",
        "  \"\"\")\n",
        "\n",
        "def Menu() :\n",
        "\n",
        "  # print(\"Welcome to our bank\")\n",
        "    print(\"\"\"\n",
        "        WELCOME TO OUR BANK\n",
        "        ****MENU****\n",
        "        Enter 1 to check balance\n",
        "        Enter 2 to withdraw the cash\n",
        "        Enter 3 to deposit the cash\n",
        "        Enter 4 to cancel\n",
        "    \"\"\")\n",
        "    choice = int(input())\n",
        "    while(type(choice) != type(0)) :\n",
        "      choice = int(input())\n",
        "    name = str(input(\"Enter the username : \"))\n",
        "    pin = int(input(\"Enter the pin : \"))\n",
        "\n",
        "    database_index = None\n",
        "    # to check whether the user is already exist in the database ;\n",
        "    flag = 0\n",
        "    for i in range(len(customer_database)) :\n",
        "      if customer_database[i].username == name :\n",
        "        flag = 1\n",
        "        database_index = i\n",
        "        break\n",
        "    if flag == 0 :\n",
        "      print(\"!!! KINDLY CHECK THE USERNAME ONCE AGAIN!!!\")\n",
        "\n",
        "    if flag == 1 : #user exists  ;\n",
        "\n",
        "\n",
        "          if customer_database[database_index].pin == pin :\n",
        "          # implement multiple verifications like OTP and face verification by adding if statements here ;\n",
        "\n",
        "                if choice == 4 : # to cancel\n",
        "                  pass\n",
        "                elif choice == 3 : # to deposit the cash\n",
        "                  deposit = int(input(\"Enter the amount to deposit : \"))\n",
        "                  while deposit <= 0 :\n",
        "                    print(\"Enter appropriate amount to deposit\")\n",
        "                    deposit = int(input(\"Enter the amount to deposit : \"))\n",
        "\n",
        "                  customer_database[database_index].balance += deposit\n",
        "                  print(f\"HENCE the updated balance of account is : {customer_database[database_index].balance}\")\n",
        "\n",
        "                elif choice == 2 : # to withdraw the cash\n",
        "                  withdraw = int(input(\"Enter the amount to withdraw : \"))\n",
        "\n",
        "                  while withdraw <= 0 or customer_database[database_index].balance < withdraw : #invalid amount to withdraw\n",
        "                    print(\"invalid balance or invalid amount entered\")\n",
        "                    withdraw = int(input(\"Enter the amount to withdraw : \"))\n",
        "\n",
        "                  customer_database[database_index].balance -= withdraw\n",
        "                  print(f\"HENCE the updated balance of account is {customer_database[database_index].balance}\")\n",
        "\n",
        "                elif choice == 1 : # to check the balance\n",
        "                  print(f\"Your account balance is {customer_database[database_index].balance}\")\n",
        "\n",
        "          else :\n",
        "            print(\"!!! kindly check your pin number !!!\")\n",
        "\n",
        "\n",
        "\n",
        "\n",
        "\n",
        "\n",
        "#function to initiate an account for new users\n",
        "def create_account(username, pin, balance) :\n",
        "    assert int(math.log10(pin) + 1) == 4 , \"pin number is not valid\"\n",
        "    #assert len(username) == 0, \"username cannot be empty\"\n",
        "    assert balance >= 0 , \"balance cannot be negative\"\n",
        "    #assert username in customer_database.username() , \"username is taken already\"\n",
        "\n",
        "    customer_database.append(customer(username, pin, balance))\n",
        "\n",
        "\n",
        "def Main() :\n",
        "  start_page()\n",
        "  choice = int(input())\n",
        "\n",
        "  if choice == 1 :\n",
        "    #display the information of the existing user :\n",
        "    Menu()\n",
        "  elif choice == 2:\n",
        "    #want to create a new account for user\n",
        "    name = str(input(\"Enter the username : \"))\n",
        "    pin = int(input(\"Enter the pin : \"))\n",
        "    balance = int(input(\"Enter the balance : \"))\n",
        "    create_account(name, pin, balance)\n",
        "\n",
        "\n",
        "\n",
        "#sai = customer(\"sai\", 1222, 9000)\n",
        "#should try to implement a off button :\n",
        "#while True :\n",
        "\n",
        "Main()\n",
        "\n",
        "# to clear the database if we need to ;\n",
        "def clear_userDatabase() :\n",
        "  customer_database.clear()\n",
        "\n"
      ]
    },
    {
      "cell_type": "code",
      "source": [
        "#think of a way to avoid users with same username ;\n",
        "for i in customer_database :\n",
        "  print(i.username)"
      ],
      "metadata": {
        "colab": {
          "base_uri": "https://localhost:8080/"
        },
        "id": "ENLYC5yVcXaB",
        "outputId": "51418072-ab85-44c2-9e66-13a2e04561f1"
      },
      "execution_count": null,
      "outputs": [
        {
          "output_type": "stream",
          "name": "stdout",
          "text": [
            "saieswara\n",
            "sai\n",
            "sai \n"
          ]
        }
      ]
    }
  ]
}