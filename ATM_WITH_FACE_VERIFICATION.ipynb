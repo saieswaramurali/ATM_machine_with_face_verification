{
  "nbformat": 4,
  "nbformat_minor": 0,
  "metadata": {
    "colab": {
      "provenance": [],
      "authorship_tag": "ABX9TyOqYYS4nmDi69cYtLZfv+jU",
      "include_colab_link": true
    },
    "kernelspec": {
      "name": "python3",
      "display_name": "Python 3"
    },
    "language_info": {
      "name": "python"
    }
  },
  "cells": [
    {
      "cell_type": "markdown",
      "metadata": {
        "id": "view-in-github",
        "colab_type": "text"
      },
      "source": [
        "<a href=\"https://colab.research.google.com/github/saieswaramurali/ATM_machine_with_face_verification/blob/main/ATM_WITH_FACE_VERIFICATION.ipynb\" target=\"_parent\"><img src=\"https://colab.research.google.com/assets/colab-badge.svg\" alt=\"Open In Colab\"/></a>"
      ]
    },
    {
      "cell_type": "code",
      "source": [
        "customer_database = []\n",
        "\n",
        "# think a way to avoid users with same name ; ------ DONE\n",
        "# try to come up with an idea to use multithreading here since CAO ;\n",
        "# should implement OTP for verification ------ DONE\n",
        "# and add face recognition for two step verification ----- LEFT TO DO\n"
      ],
      "metadata": {
        "id": "kZLEKmEwkota"
      },
      "execution_count": 76,
      "outputs": []
    },
    {
      "cell_type": "code",
      "source": [
        "# inititate the customer_database with some client objects\n"
      ],
      "metadata": {
        "id": "ek2Nx8ZSEApo"
      },
      "execution_count": 77,
      "outputs": []
    },
    {
      "cell_type": "code",
      "source": [
        "!pip install twilio"
      ],
      "metadata": {
        "colab": {
          "base_uri": "https://localhost:8080/"
        },
        "id": "kinWbLyAL1MW",
        "outputId": "d098c768-aabf-4faf-f7bd-6586d4bca1e6"
      },
      "execution_count": 78,
      "outputs": [
        {
          "output_type": "stream",
          "name": "stdout",
          "text": [
            "Requirement already satisfied: twilio in /usr/local/lib/python3.10/dist-packages (8.10.1)\n",
            "Requirement already satisfied: requests>=2.0.0 in /usr/local/lib/python3.10/dist-packages (from twilio) (2.31.0)\n",
            "Requirement already satisfied: PyJWT<3.0.0,>=2.0.0 in /usr/lib/python3/dist-packages (from twilio) (2.3.0)\n",
            "Requirement already satisfied: aiohttp>=3.8.4 in /usr/local/lib/python3.10/dist-packages (from twilio) (3.8.6)\n",
            "Requirement already satisfied: aiohttp-retry>=2.8.3 in /usr/local/lib/python3.10/dist-packages (from twilio) (2.8.3)\n",
            "Requirement already satisfied: attrs>=17.3.0 in /usr/local/lib/python3.10/dist-packages (from aiohttp>=3.8.4->twilio) (23.1.0)\n",
            "Requirement already satisfied: charset-normalizer<4.0,>=2.0 in /usr/local/lib/python3.10/dist-packages (from aiohttp>=3.8.4->twilio) (3.3.1)\n",
            "Requirement already satisfied: multidict<7.0,>=4.5 in /usr/local/lib/python3.10/dist-packages (from aiohttp>=3.8.4->twilio) (6.0.4)\n",
            "Requirement already satisfied: async-timeout<5.0,>=4.0.0a3 in /usr/local/lib/python3.10/dist-packages (from aiohttp>=3.8.4->twilio) (4.0.3)\n",
            "Requirement already satisfied: yarl<2.0,>=1.0 in /usr/local/lib/python3.10/dist-packages (from aiohttp>=3.8.4->twilio) (1.9.2)\n",
            "Requirement already satisfied: frozenlist>=1.1.1 in /usr/local/lib/python3.10/dist-packages (from aiohttp>=3.8.4->twilio) (1.4.0)\n",
            "Requirement already satisfied: aiosignal>=1.1.2 in /usr/local/lib/python3.10/dist-packages (from aiohttp>=3.8.4->twilio) (1.3.1)\n",
            "Requirement already satisfied: idna<4,>=2.5 in /usr/local/lib/python3.10/dist-packages (from requests>=2.0.0->twilio) (3.4)\n",
            "Requirement already satisfied: urllib3<3,>=1.21.1 in /usr/local/lib/python3.10/dist-packages (from requests>=2.0.0->twilio) (2.0.7)\n",
            "Requirement already satisfied: certifi>=2017.4.17 in /usr/local/lib/python3.10/dist-packages (from requests>=2.0.0->twilio) (2023.7.22)\n"
          ]
        }
      ]
    },
    {
      "cell_type": "code",
      "source": [
        "import random\n",
        "from twilio.rest import Client\n",
        "\n",
        "#for sending opt\n",
        "\n",
        "def send_otp(contact) :\n",
        "    otp = random.randint(1000,9999)\n",
        "\n",
        "    account_sid = \"AC70f4dc175df497d414dd6f32e5385972\" # enter your account sid from twilio account here to send otp\n",
        "\n",
        "    auth_token = \"6c8dc9794ea7c5297b3b6d3ca9c0b29c\"    # enter your account's authentication token from twilio account here to send otp\n",
        "\n",
        "    client = Client(account_sid, auth_token)\n",
        "\n",
        "    msg = client.messages.create(\n",
        "        body = f\"Welcome to our bank, Your OTP is {otp}\" ,\n",
        "        from_ = \"+15733672585\",\n",
        "        to = f\"+{contact}\"\n",
        "    )\n",
        "    return otp\n",
        "\n"
      ],
      "metadata": {
        "id": "7uyw9DfBDq9t"
      },
      "execution_count": 79,
      "outputs": []
    },
    {
      "cell_type": "code",
      "source": [
        "#think of a way to avoid users with same username ;\n",
        "for i in customer_database :\n",
        "  print(i.username)"
      ],
      "metadata": {
        "id": "ENLYC5yVcXaB"
      },
      "execution_count": 80,
      "outputs": []
    },
    {
      "cell_type": "code",
      "source": [
        "from prompt_toolkit.application.application import E\n",
        "\n",
        "import math\n",
        "\n",
        "\n",
        "#class for customers\n",
        "class customer :\n",
        "\n",
        "  def __init__(self, username, pin, contact, balance = 0) :\n",
        "    assert int(math.log10(pin) + 1) == 4 , \"pin number is not valid\"\n",
        "    #assert len(username) <= 3, \"username cannot be empty\"\n",
        "    assert balance >= 0 , \"balance cannot be negative\"\n",
        "    assert int(math.log10(contact)) + 1 == 12 , \"Enter contact number with the country code ex: +91______1234\"\n",
        "    self.username = username\n",
        "    self.pin = pin\n",
        "    self.balance = balance\n",
        "    self.contact = contact\n",
        "\n",
        "#function to display menu\n",
        "\n",
        "def start_page() :\n",
        "  print(\"\"\"\n",
        "    WELCOME TO OUR BANK\n",
        "    ENTER 1 TO LOGIN TO AN EXISTING ACCOUNT\n",
        "    ENTER 2 TO CREATE AN ACCOUNT\n",
        "  \"\"\")\n",
        "\n",
        "def Menu() :\n",
        "\n",
        "  # print(\"Welcome to our bank\")\n",
        "    print(\"\"\"\n",
        "        WELCOME TO OUR BANK\n",
        "        ****MENU****\n",
        "        Enter 1 to check balance\n",
        "        Enter 2 to withdraw the cash\n",
        "        Enter 3 to deposit the cash\n",
        "        Enter 4 to cancel\n",
        "    \"\"\")\n",
        "    choice = int(input())\n",
        "    while(type(choice) != type(0)) :\n",
        "      choice = int(input())\n",
        "    name = str(input(\"Enter the username : \"))\n",
        "    pin = int(input(\"Enter the pin : \"))\n",
        "\n",
        "    database_index = None\n",
        "    # to check whether the user is already exist in the database ;\n",
        "    flag = 0\n",
        "    for i in range(len(customer_database)) :\n",
        "      if customer_database[i].username == name :\n",
        "        flag = 1\n",
        "        database_index = i\n",
        "        break\n",
        "    if flag == 0 :\n",
        "      print(\"!!! KINDLY CHECK THE USERNAME ONCE AGAIN!!!\")\n",
        "\n",
        "    if flag == 1 : #user exists  ;\n",
        "\n",
        "\n",
        "\n",
        "          if customer_database[database_index].pin == pin :\n",
        "          # implement multiple verifications like OTP and face verification by adding if statements here ;\n",
        "\n",
        "          #for OTP verification ;\n",
        "                otp_sent = send_otp(customer_database[database_index].contact)\n",
        "                otp_entered = int(input(\"Enter the otp recieved in your contact number. \"))\n",
        "\n",
        "                if otp_entered == otp_sent :\n",
        "\n",
        "                    if choice == 4 : # to cancel\n",
        "                      pass\n",
        "                    elif choice == 3 : # to deposit the cash\n",
        "                      deposit = int(input(\"Enter the amount to deposit : \"))\n",
        "                      while deposit <= 0 :\n",
        "                        print(\"Enter appropriate amount to deposit\")\n",
        "                        deposit = int(input(\"Enter the amount to deposit : \"))\n",
        "\n",
        "                      customer_database[database_index].balance += deposit\n",
        "                      print(f\"HENCE the updated balance of account is : {customer_database[database_index].balance}\")\n",
        "\n",
        "                    elif choice == 2 : # to withdraw the cash\n",
        "                      withdraw = int(input(\"Enter the amount to withdraw : \"))\n",
        "\n",
        "                      while withdraw <= 0 or customer_database[database_index].balance < withdraw : #invalid amount to withdraw\n",
        "                        print(\"invalid balance or invalid amount entered\")\n",
        "                        withdraw = int(input(\"Enter the amount to withdraw : \"))\n",
        "\n",
        "                      customer_database[database_index].balance -= withdraw\n",
        "                      print(f\"HENCE the updated balance of account is {customer_database[database_index].balance}\")\n",
        "\n",
        "                    elif choice == 1 : # to check the balance\n",
        "                      print(f\"Your account balance is {customer_database[database_index].balance}\")\n",
        "\n",
        "                else :\n",
        "                    print(\"!!! Entered OTP is wrong !!!\")\n",
        "\n",
        "\n",
        "\n",
        "          else :\n",
        "            print(\"!!! kindly check your pin number !!!\")\n",
        "\n",
        "\n",
        "\n",
        "\n",
        "\n",
        "\n",
        "#function to initiate an account for new users\n",
        "def create_account(username, pin, contact, balance) :\n",
        "    assert int(math.log10(pin) + 1) == 4 , \"pin number is not valid\"\n",
        "    #assert len(username) == 0, \"username cannot be empty\"\n",
        "    assert balance >= 0 , \"balance cannot be negative\"\n",
        "    #assert username in customer_database.username() , \"username is taken already\"\n",
        "\n",
        "    customer_database.append(customer(username, pin, contact, balance))\n",
        "\n",
        "\n",
        "def Main() :\n",
        "  start_page()\n",
        "  choice = int(input())\n",
        "\n",
        "  if choice == 1 :\n",
        "    #display the information of the existing user :\n",
        "    Menu()\n",
        "  elif choice == 2:\n",
        "    #want to create a new account for user\n",
        "    name = str(input(\"Enter the username : \"))\n",
        "    pin = int(input(\"Enter the pin : \"))\n",
        "    balance = int(input(\"Enter the balance : \"))\n",
        "    contact = int(input(\"Enter your contact number : \"))\n",
        "    create_account(name, pin, contact,  balance)\n",
        "\n",
        "\n",
        "\n",
        "#sai = customer(\"sai\", 1222, 9000)\n",
        "#should try to implement a off button :\n",
        "#while True :\n",
        "\n",
        "Main()\n",
        "\n",
        "# to clear the database if we need to ;\n",
        "def clear_userDatabase() :\n",
        "  customer_database.clear()"
      ],
      "metadata": {
        "colab": {
          "base_uri": "https://localhost:8080/"
        },
        "id": "VdmNWxE5Ex-e",
        "outputId": "f8109d49-4c61-4ac5-b1df-327a20ee5bdb"
      },
      "execution_count": 90,
      "outputs": [
        {
          "output_type": "stream",
          "name": "stdout",
          "text": [
            "\n",
            "    WELCOME TO OUR BANK\n",
            "    ENTER 1 TO LOGIN TO AN EXISTING ACCOUNT\n",
            "    ENTER 2 TO CREATE AN ACCOUNT\n",
            "  \n",
            "1\n",
            "\n",
            "        WELCOME TO OUR BANK\n",
            "        ****MENU****\n",
            "        Enter 1 to check balance\n",
            "        Enter 2 to withdraw the cash\n",
            "        Enter 3 to deposit the cash\n",
            "        Enter 4 to cancel\n",
            "    \n",
            "1\n",
            "Enter the username : saie\n",
            "Enter the pin : 1234\n",
            "Enter the otp recieved in your contact number. 7730\n",
            "Your account balance is 0\n"
          ]
        }
      ]
    },
    {
      "cell_type": "code",
      "source": [
        "# inititate the customer_database with some client objects after running the main method once\n",
        "customer_database.clear()\n",
        "\n",
        "create_account(\"saie\", 1234, 919444488518, 0)\n",
        "create_account(\"vimal\", 1234, 918778016026, 0)\n"
      ],
      "metadata": {
        "id": "wcfs5SE4TIpp"
      },
      "execution_count": 82,
      "outputs": []
    },
    {
      "cell_type": "code",
      "source": [
        "print(len(customer_database))\n",
        "\n",
        "print(customer_database[0].contact)\n"
      ],
      "metadata": {
        "colab": {
          "base_uri": "https://localhost:8080/"
        },
        "id": "Flkw52zDFzeP",
        "outputId": "5caab1c3-609c-4c81-8e47-8054826fa5f5"
      },
      "execution_count": 88,
      "outputs": [
        {
          "output_type": "stream",
          "name": "stdout",
          "text": [
            "3\n",
            "919444488518\n"
          ]
        }
      ]
    }
  ]
}